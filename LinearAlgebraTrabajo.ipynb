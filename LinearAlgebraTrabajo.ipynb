{
  "nbformat": 4,
  "nbformat_minor": 0,
  "metadata": {
    "kernelspec": {
      "display_name": "Python 3",
      "language": "python",
      "name": "python3"
    },
    "language_info": {
      "codemirror_mode": {
        "name": "ipython",
        "version": 3
      },
      "file_extension": ".py",
      "mimetype": "text/x-python",
      "name": "python",
      "nbconvert_exporter": "python",
      "pygments_lexer": "ipython3",
      "version": "3.8.5"
    },
    "colab": {
      "name": "LinearAlgebraTrabajo.ipynb",
      "provenance": [],
      "collapsed_sections": [
        "z75PIy4XMYqy",
        "xGwlCZPaMYqz",
        "h_qr4kORMYq5",
        "5jrJiXZrMYq6",
        "VQsXjKK0MYq_"
      ],
      "include_colab_link": true
    }
  },
  "cells": [
    {
      "cell_type": "markdown",
      "metadata": {
        "id": "view-in-github",
        "colab_type": "text"
      },
      "source": [
        "<a href=\"https://colab.research.google.com/github/aldoserrano/DataScienceCourse/blob/main/LinearAlgebraTrabajo.ipynb\" target=\"_parent\"><img src=\"https://colab.research.google.com/assets/colab-badge.svg\" alt=\"Open In Colab\"/></a>"
      ]
    },
    {
      "cell_type": "markdown",
      "metadata": {
        "id": "N0N-z78TMYqn"
      },
      "source": [
        "# Algebra Lineal   🧮\n",
        "## Modo Practica (_ON_) (OFF)\n",
        "### Rama de las maths que estudia operaciones lineales en objetos matemáticos como Vectores, matrices y tensores\n",
        "\n",
        "![hold_on](https://i.kym-cdn.com/photos/images/newsfeed/001/485/927/d74.jpg)\n",
        "\n",
        "## Amonos Recios a Practicar!\n"
      ]
    },
    {
      "cell_type": "markdown",
      "metadata": {
        "id": "U_mbLyHjMYqp"
      },
      "source": [
        "> Nuestros Paquetes \n",
        "     \n",
        "     Numpy\n",
        "     - import numpy as np"
      ]
    },
    {
      "cell_type": "code",
      "metadata": {
        "id": "WejNJmSfMYqq"
      },
      "source": [
        "import numpy as np\n",
        "%matplotlib inline\n",
        "import matplotlib.pyplot as plt\n",
        "import matplotlib.image as mpimg"
      ],
      "execution_count": null,
      "outputs": []
    },
    {
      "cell_type": "markdown",
      "metadata": {
        "id": "XCgpg_WOMYqr"
      },
      "source": [
        "## Vectores\n",
        "#### Objeto matemático que nos ayuda a describir operaciones, interacciones, en un plano etc\n",
        "\n",
        "##### Siempre un Vector tiene _**Dirección Magnitud y sentido**_"
      ]
    },
    {
      "cell_type": "markdown",
      "metadata": {
        "id": "NdgH36uzMYqr"
      },
      "source": [
        "![vector](http://www.areaciencias.com/fisica/imagenes/vector.jpg)\n",
        "\n",
        "![TESLA_VEC](https://storage.googleapis.com/campus-cvs/lectures/5.1.1%20tesla_vec.png)\n",
        "\n",
        "![khan_tesla_vec](https://storage.googleapis.com/campus-cvs/lectures/5.1.2%20khan_tesla_vec.png)"
      ]
    },
    {
      "cell_type": "markdown",
      "metadata": {
        "id": "zy-fbduFMYqs"
      },
      "source": [
        "## Operaciones con Vectores"
      ]
    },
    {
      "cell_type": "markdown",
      "metadata": {
        "id": "dQr_5E9SMYqt"
      },
      "source": [
        "### Suma de Vectores\n",
        "\n",
        "![suma](https://cdn-images-1.medium.com/max/800/0*9r4Qmivh-MSPFqM3.png)\n",
        "\n",
        "\n",
        "![holi](https://cdn-images-1.medium.com/max/800/1*cNhd3-jTnbUXvj3PTsRhng.png)"
      ]
    },
    {
      "cell_type": "code",
      "metadata": {
        "id": "vvtJrxwAMYqt"
      },
      "source": [
        ""
      ],
      "execution_count": null,
      "outputs": []
    },
    {
      "cell_type": "code",
      "metadata": {
        "id": "5PB0aoQFqddL"
      },
      "source": [
        ""
      ],
      "execution_count": null,
      "outputs": []
    },
    {
      "cell_type": "code",
      "metadata": {
        "id": "ule2AjgFwVCL"
      },
      "source": [
        ""
      ],
      "execution_count": null,
      "outputs": []
    },
    {
      "cell_type": "markdown",
      "metadata": {
        "id": "EOPfH9raMYqu"
      },
      "source": [
        "## Vector por Escalar\n"
      ]
    },
    {
      "cell_type": "markdown",
      "metadata": {
        "id": "p81ff5maMYqv"
      },
      "source": [
        "### If tienes magnitud pero no dirección NO es Vector es escalar\n",
        "\n",
        "![ansiedad_escalar](https://i.pinimg.com/736x/3d/17/ad/3d17adf51a588e9008a006932b40df04.jpg)"
      ]
    },
    {
      "cell_type": "markdown",
      "metadata": {
        "id": "12bl5vdlMYqv"
      },
      "source": [
        "![](https://cdn-images-1.medium.com/max/800/1*qc8yeVN3aKJQUuFcZwcm7A.png)"
      ]
    },
    {
      "cell_type": "code",
      "metadata": {
        "id": "PuD9WRzLrYqR"
      },
      "source": [
        ""
      ],
      "execution_count": null,
      "outputs": []
    },
    {
      "cell_type": "markdown",
      "metadata": {
        "id": "67qa_OfxMYqw"
      },
      "source": [
        "## Producto punto == Producto Escalar\n",
        "\n",
        "#### Es multiplicar 2 vectores y que nos dé UN (1) número 😜 o sea un escalar\n",
        "\n",
        "\n",
        "![2_form_pp](https://cdn-images-1.medium.com/max/800/0*lMEmcY_nXD4LOvHD.png)\n",
        "\n",
        "\n",
        "![pp](https://cdn-images-1.medium.com/max/800/1*ys1bMjlrtchr_ClPah7Z2w.png)\n"
      ]
    },
    {
      "cell_type": "code",
      "metadata": {
        "id": "nvzOHQG6MYqw"
      },
      "source": [
        ""
      ],
      "execution_count": null,
      "outputs": []
    },
    {
      "cell_type": "code",
      "metadata": {
        "id": "xmYD8dskrwws"
      },
      "source": [
        ""
      ],
      "execution_count": null,
      "outputs": []
    },
    {
      "cell_type": "code",
      "metadata": {
        "id": "3xcL3xtFxpqT"
      },
      "source": [
        ""
      ],
      "execution_count": null,
      "outputs": []
    },
    {
      "cell_type": "markdown",
      "metadata": {
        "id": "dODtAB6JMYqw"
      },
      "source": [
        "##### Docs de Algebra lineal con Numpy:\n",
        "\n",
        "https://numpy.org/doc/stable/reference/routines.linalg.html"
      ]
    },
    {
      "cell_type": "markdown",
      "metadata": {
        "id": "_2l9lu9DMYqx"
      },
      "source": [
        "## Vector Unitario\n",
        "\n",
        "#### Es el vector cuya magnitud es 1 !!!\n",
        "#### Se puede obtener a partir de otro vector\n",
        "\n",
        "#### Cómo ??\n",
        "\n",
        "##### Primero calculando la magnitud o norma\n",
        "##### Después dividiendo cada partecita del vector entre esa norma o magnitud\n",
        "\n",
        "#### AHHH, otra cosa, un vector unitario se representa con una gorrito ^  🎩  \n",
        "\n",
        "![vector_unitario](https://cdn-images-1.medium.com/max/800/0*3Qkk3weTeyaMYthE.png)"
      ]
    },
    {
      "cell_type": "markdown",
      "metadata": {
        "id": "8GyyVYgXMYqx"
      },
      "source": [
        "#### Ajá ... ajá...\n",
        "#### Muy bonito pero que es eso de la magnitud o norma?? 🥴\n",
        "\n",
        "\n",
        "La norma es la 🦷 🔲  (_**raíz cuadrada**_) de la _**SUMA**_ de los componentes del vector _**al cuadrado**_ 🔲 \n",
        "\n",
        "## 🤯\n",
        "\n",
        "He he ...\n",
        "\n",
        "#### Más técnico?\n",
        "\n",
        "Norma\n",
        "La norma de un vector 𝐮, se denota como ‖𝐮‖, es una medida de la longitud (también conocida como la magnitud) de 𝐮. Hay múltiples normas posibles, pero la más común (y la única que discutiremos aquí) es la norma euclidiana, que se define como:\n",
        "\n",
        "\n",
        "![norma_euclidiana](https://storage.googleapis.com/campus-cvs/lectures/5.1.3%20norma_euclidiana.jpg)\n",
        "\n",
        "\n",
        "Vamos a hacerlo, para ver que no es taaan complicado, o sí? 🤔\n",
        "\n",
        "\n",
        "![vector Unitario_norma](https://cdn-images-1.medium.com/max/800/1*wFFS0a3soJRC7XlZxzJ6Kg.png)\n"
      ]
    },
    {
      "cell_type": "code",
      "metadata": {
        "id": "YwuHPBVRMYqx"
      },
      "source": [
        "\n"
      ],
      "execution_count": null,
      "outputs": []
    },
    {
      "cell_type": "code",
      "metadata": {
        "id": "tLXF3BQjtNTt"
      },
      "source": [
        ""
      ],
      "execution_count": null,
      "outputs": []
    },
    {
      "cell_type": "markdown",
      "metadata": {
        "id": "5BZPWDeEMYqx"
      },
      "source": [
        "## Producto Cruz o Producto Vectorial\n",
        "#### Básicamente otro tipo de Multiplicacion de Vectores\n",
        "![pv](https://www.youphysics.education/wp-content/uploads/es/magnitudes-escalares-y-vectoriales/ejercicios-resueltos-de-producto-vectorial/Ejecicios-Vectores-Eq17.png)\n",
        "\n",
        "\n",
        "x.x"
      ]
    },
    {
      "cell_type": "markdown",
      "metadata": {
        "id": "yvdJP7i6MYqx"
      },
      "source": [
        "$\n",
        "A x B =\n",
        "\\begin{bmatrix}\n",
        "  i & j & k \\\\\n",
        "  3 & -2 & 1 \\\\\n",
        "  5 & 5 & 0\n",
        "\\end{bmatrix}\n",
        "$\n",
        "\n",
        "\n",
        "$\n",
        "A x B = 5i - 5j + 5k\n",
        "$"
      ]
    },
    {
      "cell_type": "markdown",
      "metadata": {
        "id": "HTsX5527MYqy"
      },
      "source": [
        "(0 + 5)i - (0 + 5 )j + (15 - 10) k = 5i -5j + 5k"
      ]
    },
    {
      "cell_type": "code",
      "metadata": {
        "id": "OvRElP95MYqy"
      },
      "source": [
        ""
      ],
      "execution_count": null,
      "outputs": []
    },
    {
      "cell_type": "code",
      "metadata": {
        "id": "5E1N_fWDvz9r"
      },
      "source": [
        ""
      ],
      "execution_count": null,
      "outputs": []
    },
    {
      "cell_type": "markdown",
      "metadata": {
        "id": "z75PIy4XMYqy"
      },
      "source": [
        "## Matrices\n",
        "\n",
        "### Es un conjunto de datos agrupados en filas y columnas 🤓"
      ]
    },
    {
      "cell_type": "markdown",
      "metadata": {
        "id": "hPbzlXgwMYqy"
      },
      "source": [
        "## Operaciones con Matrices\n",
        "\n",
        "### Suma y resta de Matrices\n",
        "\n",
        "\n",
        "![SUMA_RESTA_MATRIX](https://cdn-images-1.medium.com/max/1600/0*eKgiNEikBO09MCN1.png)\n",
        "\n",
        "![suma_resta_operacion](https://cdn-images-1.medium.com/max/1600/1*-RY9bFWxx8q9f55pF6t5mA.jpeg)\n"
      ]
    },
    {
      "cell_type": "code",
      "metadata": {
        "id": "wgEB3TgUMYqy"
      },
      "source": [
        ""
      ],
      "execution_count": null,
      "outputs": []
    },
    {
      "cell_type": "code",
      "metadata": {
        "id": "gQUboxkBMYqz"
      },
      "source": [
        ""
      ],
      "execution_count": null,
      "outputs": []
    },
    {
      "cell_type": "code",
      "metadata": {
        "id": "LloVO1_Oxlkw"
      },
      "source": [
        "X = np.matrix([\n",
        "    [3, 5, 6],\n",
        "    [1, 0, -1],\n",
        "    [4, 7, 9]\n",
        "])\n",
        "Y = np.matrix([\n",
        "    [2, 3, 4],\n",
        "    [1, 2, 3],\n",
        "    [5, 7, 9]\n",
        "])\n",
        "\n"
      ],
      "execution_count": null,
      "outputs": []
    },
    {
      "cell_type": "code",
      "metadata": {
        "id": "dBhO-C8z1lsB"
      },
      "source": [
        "X-Y"
      ],
      "execution_count": null,
      "outputs": []
    },
    {
      "cell_type": "markdown",
      "metadata": {
        "id": "bbzkxkA_MYqz"
      },
      "source": [
        "### Utilidades: conocer el tamaño de una matriz\n"
      ]
    },
    {
      "cell_type": "code",
      "metadata": {
        "id": "mT1K8zRXMYqz",
        "colab": {
          "base_uri": "https://localhost:8080/"
        },
        "outputId": "115b7aa6-a2b4-4e3a-cc1f-b63992437227"
      },
      "source": [
        "A.shape"
      ],
      "execution_count": null,
      "outputs": [
        {
          "output_type": "execute_result",
          "data": {
            "text/plain": [
              "(2, 2)"
            ]
          },
          "metadata": {},
          "execution_count": 22
        }
      ]
    },
    {
      "cell_type": "code",
      "metadata": {
        "id": "1lebm1w1MYqz"
      },
      "source": [
        ""
      ],
      "execution_count": null,
      "outputs": []
    },
    {
      "cell_type": "code",
      "metadata": {
        "id": "K5hEDO3DMYqz"
      },
      "source": [
        ""
      ],
      "execution_count": null,
      "outputs": []
    },
    {
      "cell_type": "code",
      "metadata": {
        "id": "OysE9kOPyLs6"
      },
      "source": [
        ""
      ],
      "execution_count": null,
      "outputs": []
    },
    {
      "cell_type": "markdown",
      "metadata": {
        "id": "xGwlCZPaMYqz"
      },
      "source": [
        "## Multiplicación de matrices"
      ]
    },
    {
      "cell_type": "markdown",
      "metadata": {
        "id": "jy3sk3OhMYqz"
      },
      "source": [
        "## Multiplicación por un escalar\n",
        "\n",
        "![matrxi_escalar](https://cdn-images-1.medium.com/max/1600/0*RMuq3SZ_8Z4KE-48.png)\n",
        "\n",
        "![matriz_escalara_op](https://cdn-images-1.medium.com/max/1600/1*GjkSYej3OU2cJT7zGTjwvA.png)"
      ]
    },
    {
      "cell_type": "code",
      "metadata": {
        "id": "z88dH7aKMYq0"
      },
      "source": [
        "\n"
      ],
      "execution_count": null,
      "outputs": []
    },
    {
      "cell_type": "markdown",
      "metadata": {
        "id": "_idZZl3YMYq0"
      },
      "source": [
        "### Matriz por vector\n",
        "#### Nos devuelve un vector de dimension de las filas de la matriz"
      ]
    },
    {
      "cell_type": "code",
      "metadata": {
        "id": "TrWF6YssMYq0"
      },
      "source": [
        "vector = np.array([2,3])\n",
        "matrix = np.array([[0,9],[8,7],[6,5]])"
      ],
      "execution_count": null,
      "outputs": []
    },
    {
      "cell_type": "code",
      "metadata": {
        "id": "IMPDaeBTMYq0"
      },
      "source": [
        ""
      ],
      "execution_count": null,
      "outputs": []
    },
    {
      "cell_type": "code",
      "metadata": {
        "id": "4TayheblMYq0"
      },
      "source": [
        ""
      ],
      "execution_count": null,
      "outputs": []
    },
    {
      "cell_type": "code",
      "metadata": {
        "id": "ecJJBZ3uyrQ4"
      },
      "source": [
        ""
      ],
      "execution_count": null,
      "outputs": []
    },
    {
      "cell_type": "code",
      "metadata": {
        "id": "gWvRTKdm2-Ds"
      },
      "source": [
        ""
      ],
      "execution_count": null,
      "outputs": []
    },
    {
      "cell_type": "markdown",
      "metadata": {
        "id": "gpQ7SUrkMYq0"
      },
      "source": [
        "### Matriz por Matriz Producto Punto"
      ]
    },
    {
      "cell_type": "code",
      "metadata": {
        "id": "zTL1Oks0MYq1"
      },
      "source": [
        ""
      ],
      "execution_count": null,
      "outputs": []
    },
    {
      "cell_type": "code",
      "metadata": {
        "id": "JtK91eu5MYq1"
      },
      "source": [
        ""
      ],
      "execution_count": null,
      "outputs": []
    },
    {
      "cell_type": "code",
      "metadata": {
        "id": "pOD48kOpMYq1"
      },
      "source": [
        ""
      ],
      "execution_count": null,
      "outputs": []
    },
    {
      "cell_type": "code",
      "metadata": {
        "id": "h0GnM0S0y8ex"
      },
      "source": [
        "r1.shape"
      ],
      "execution_count": null,
      "outputs": []
    },
    {
      "cell_type": "code",
      "metadata": {
        "id": "mEPyb6syMYq1"
      },
      "source": [
        "np.dot(mat2, mat1)"
      ],
      "execution_count": null,
      "outputs": []
    },
    {
      "cell_type": "markdown",
      "metadata": {
        "id": "oq7JaG064F9W"
      },
      "source": [
        "#################################################################\n",
        "(clase 2)"
      ]
    },
    {
      "cell_type": "markdown",
      "metadata": {
        "id": "0jMtqVEOMYq1"
      },
      "source": [
        "## Propiedades de la multiplicación \n",
        "\n",
        "### Asociativa\n",
        "\n",
        "#### A x (BxC) = (AxB) x C  ✅\n",
        "\n",
        "### Distributiva\n",
        "\n",
        "#### Ax(B+C) = (AxB) + (AxC)   ✅  \n",
        "\n",
        "#### Commutativa ???\n",
        "#### BxC = CxB   ⛔️"
      ]
    },
    {
      "cell_type": "code",
      "metadata": {
        "id": "GvcKOVSyMYq1"
      },
      "source": [
        "alpha = np.array([[2,3], [5,7], [11,13]])\n",
        "beta = np.array([[1,3],[2,1]])\n",
        "charlie = np.array([[3,1],[4,2]])"
      ],
      "execution_count": null,
      "outputs": []
    },
    {
      "cell_type": "code",
      "metadata": {
        "id": "ouxcJWmmMYq2"
      },
      "source": [
        ""
      ],
      "execution_count": null,
      "outputs": []
    },
    {
      "cell_type": "code",
      "metadata": {
        "id": "vH7_TrhzMYq2"
      },
      "source": [
        ""
      ],
      "execution_count": null,
      "outputs": []
    },
    {
      "cell_type": "code",
      "metadata": {
        "id": "OWuTNrfvMYq2"
      },
      "source": [
        "# Distributiva\n",
        "alpha.dot(beta+charlie)"
      ],
      "execution_count": null,
      "outputs": []
    },
    {
      "cell_type": "code",
      "metadata": {
        "id": "DK7l_B3SMYq2"
      },
      "source": [
        "alpha.dot(beta) + alpha.dot(charlie)"
      ],
      "execution_count": null,
      "outputs": []
    },
    {
      "cell_type": "code",
      "metadata": {
        "id": "96yU7SZO0NiL"
      },
      "source": [
        ""
      ],
      "execution_count": null,
      "outputs": []
    },
    {
      "cell_type": "code",
      "metadata": {
        "id": "ixpq5VMw0Wo5"
      },
      "source": [
        ""
      ],
      "execution_count": null,
      "outputs": []
    },
    {
      "cell_type": "markdown",
      "metadata": {
        "id": "kteOw5cnMYq2"
      },
      "source": [
        "## Matriz transpuesta\n",
        "\n",
        "\n",
        "### A nivel muy simple es intercambiar las filas por columnas y las columnas por filas\n",
        "\n",
        "### Se denota con la T matuscula a rriba de la matriz\n",
        "\n",
        "![def_mat_trans](https://cdn-images-1.medium.com/max/1600/0*mrjFrMfmMcj4xsUe.png)\n",
        "![simple_trans](https://i.ytimg.com/vi/-Dlehwt7BZs/maxresdefault.jpg)\n",
        "\n",
        "\n",
        "### Si no es cuadrada, cambian sus dimensiones\n",
        "\n",
        "![mat_not_sim](http://problemastipoalgebra.weebly.com/uploads/4/3/7/1/43715289/4684023_orig.png)"
      ]
    },
    {
      "cell_type": "code",
      "metadata": {
        "id": "HJbdyzhDMYq2"
      },
      "source": [
        "x=np.array([[1,4,7],[2,5,8],[3,6,9]])\n"
      ],
      "execution_count": null,
      "outputs": []
    },
    {
      "cell_type": "code",
      "metadata": {
        "id": "S17LQqllMYq2"
      },
      "source": [
        ""
      ],
      "execution_count": null,
      "outputs": []
    },
    {
      "cell_type": "code",
      "metadata": {
        "id": "rmb80kwWMYq2"
      },
      "source": [
        "matrix_trans = np.matrix([[0, 1, 2, 3],[2,5,7,9]])\n"
      ],
      "execution_count": null,
      "outputs": []
    },
    {
      "cell_type": "code",
      "metadata": {
        "id": "KSw9p6SyMYq3"
      },
      "source": [
        ""
      ],
      "execution_count": null,
      "outputs": []
    },
    {
      "cell_type": "markdown",
      "metadata": {
        "id": "gLMj0LtLMYq3"
      },
      "source": [
        "## Matriz Triangular, Matriz Diagonal Y Matriz Identidad\n",
        "\n",
        "### Primero matriz cuadrada, una matriz cuadrada es la que tiene sus mismos numeros de columnas y filas\n",
        "\n",
        "\\begin{bmatrix}\n",
        "  4 & 9 & 2 \\\\\n",
        "  3 & 5 & 7 \\\\\n",
        "  8 & 1 & 6\n",
        "\\end{bmatrix}\n",
        "\n",
        "### Matriz simétrica es cuando una matriz es igualita a su transpuesta $M^T = M$ y pues obvio debe o implica que sea una matriz cuadrada\n",
        "\n",
        "\n",
        "\\begin{bmatrix}\n",
        "  17 & 22 & 27 & 49 \\\\\n",
        "  22 & 29 & 36 & 0 \\\\\n",
        "  27 & 36 & 45 & 2 \\\\\n",
        "  49 & 0 & 2 & 99\n",
        "\\end{bmatrix}\n",
        "\n",
        "\n",
        "### Matriz triangular, es cuando sus elementos ya sea por encima o por debajo de diagonal son 0's\n",
        "\n",
        "#### Matriz triangular por arriba\n",
        "\n",
        "\\begin{bmatrix}\n",
        "  4 & 9 & 2 \\\\\n",
        "  0 & 5 & 7 \\\\\n",
        "  0 & 0 & 6\n",
        "\\end{bmatrix}\n",
        "\n",
        "#### Matriz triangular por abajo\n",
        "\n",
        "\\begin{bmatrix}\n",
        "  4 & 0 & 0 \\\\\n",
        "  3 & 5 & 0 \\\\\n",
        "  8 & 1 & 6\n",
        "\\end{bmatrix}\n",
        "\n",
        "### Una matriz que es triangular **por arriba y por abajo**  ser le llama MAtrriz Diagonal\n",
        "\n",
        "\n",
        "\\begin{bmatrix}\n",
        "  4 & 0 & 0 \\\\\n",
        "  0 & 5 & 0 \\\\\n",
        "  0 & 0 & 6\n",
        "\\end{bmatrix}\n",
        "\n",
        "\n",
        "### Por último, una matriz identidad es aquela que en su diagonal veamos que tiene únicamente 1's\n",
        "\n",
        "### es denotada como noted $I_n$, por ejemplo $I_3$\n",
        "\n",
        "\n",
        "\\begin{bmatrix}\n",
        "  1 & 0 & 0 \\\\\n",
        "  0 & 1 & 0 \\\\\n",
        "  0 & 0 & 1\n",
        "\\end{bmatrix}\n",
        "\n",
        "\n",
        "\n",
        "### La Matriz identidad es el elemento neutro de las matrices, si multiplicamos por ella nos va a devolver el vector con el que la multiuplicamos\n",
        "\n",
        "\n",
        "\n",
        "#### Todo esto se puede construir con el buen Numpy\n",
        "\n",
        "![numpy](https://i.imgflip.com/544b0f.jpg)"
      ]
    },
    {
      "cell_type": "code",
      "metadata": {
        "id": "9fYeEjBAMYq3"
      },
      "source": [
        "# Matriz triagular por arriba \n",
        "np.triu([[1,2,3],[4,5,6],[7,8,9],[10,11,12]], -1)"
      ],
      "execution_count": null,
      "outputs": []
    },
    {
      "cell_type": "code",
      "metadata": {
        "id": "dRYQn5VhMYq3"
      },
      "source": [
        "# Matriz triagular por abajo \n",
        "np.tril([[1,2,3],[4,5,6],[7,8,9],[10,11,12]], -1)"
      ],
      "execution_count": null,
      "outputs": []
    },
    {
      "cell_type": "code",
      "metadata": {
        "id": "EuV7cqybMYq3"
      },
      "source": [
        "# Construir una matriz diagonal\n"
      ],
      "execution_count": null,
      "outputs": []
    },
    {
      "cell_type": "code",
      "metadata": {
        "id": "AW-TOzNdMYq3"
      },
      "source": [
        "# Obtener la diagonal de una matriz\n",
        "D = np.array([\n",
        "        [1, 2, 3],\n",
        "        [4, 5, 6],\n",
        "        [7, 8, 9],\n",
        "    ])\n"
      ],
      "execution_count": null,
      "outputs": []
    },
    {
      "cell_type": "code",
      "metadata": {
        "id": "qf7HaQ4gMYq3"
      },
      "source": [
        "# Construir matriz identidad\n",
        "tripas = np.eye(3)"
      ],
      "execution_count": null,
      "outputs": []
    },
    {
      "cell_type": "code",
      "metadata": {
        "id": "agph_-Q2MYq4"
      },
      "source": [
        ""
      ],
      "execution_count": null,
      "outputs": []
    },
    {
      "cell_type": "code",
      "metadata": {
        "id": "aIcxM9U9MYq4"
      },
      "source": [
        "to_multiply = np.array([[300], [289], [164]])\n"
      ],
      "execution_count": null,
      "outputs": []
    },
    {
      "cell_type": "code",
      "metadata": {
        "id": "vtOkImEvMYq4"
      },
      "source": [
        ""
      ],
      "execution_count": null,
      "outputs": []
    },
    {
      "cell_type": "markdown",
      "metadata": {
        "id": "bDDuSfD9MYq4"
      },
      "source": [
        "# Determinante\n",
        "\n",
        "![Drake_determinante](https://i.imgflip.com/544ko0.jpg)\n",
        "\n",
        "### Sólo nos sirve para matrices cuadradas 😬\n",
        "\n",
        "##### Ejemplo de determinante en una matriz de 2x2\n",
        "\n",
        "![det_formula](https://cdn-images-1.medium.com/max/1600/0*ht80zTEEx30ZbVMP.png)\n",
        "![det_2x2_ex](https://cdn-images-1.medium.com/max/1600/1*Mg1TsLXiOCbhSl9q_jfJjQ.png)\n",
        "\n",
        "\n",
        "#### Tomando la matriz anterior como B, podríamos escribir el determinante como \n",
        "\n",
        "#### det(B) = 16"
      ]
    },
    {
      "cell_type": "code",
      "metadata": {
        "id": "Smh81rEfMYq4"
      },
      "source": [
        "matrix2x2 = np.matrix([\n",
        "    [3, 2],\n",
        "    [1, 6]\n",
        "])"
      ],
      "execution_count": null,
      "outputs": []
    },
    {
      "cell_type": "code",
      "metadata": {
        "id": "b-u-e2rkMYq4"
      },
      "source": [
        ""
      ],
      "execution_count": null,
      "outputs": []
    },
    {
      "cell_type": "markdown",
      "metadata": {
        "id": "c1xi38MoMYq4"
      },
      "source": [
        "### Que tal ahora una matriz de 3x3?\n",
        "\n",
        "![3x3](https://www.elsoldepuebla.com.mx/doble-via/virales/m6k554-nino-oxxo.jpg/ALTERNATES/LANDSCAPE_1140/Ni%C3%B1o%20Oxxo.jpg)\n",
        "\n",
        "#### Se resuelven comunmente por el método de Sarrus"
      ]
    },
    {
      "cell_type": "code",
      "metadata": {
        "id": "BnzlkHiCMYq4"
      },
      "source": [
        "mat_sarrus = np.array([[-2,4,5],[6,7,-3],[3,0,2]])"
      ],
      "execution_count": null,
      "outputs": []
    },
    {
      "cell_type": "code",
      "metadata": {
        "id": "5gyTflq14Mpa"
      },
      "source": [
        "mat_sarrus_1 = np.array([[6,7,-3],[-2,4,5],[3,0,2]])"
      ],
      "execution_count": null,
      "outputs": []
    },
    {
      "cell_type": "code",
      "metadata": {
        "id": "BcrnNm2zMYq5"
      },
      "source": [
        ""
      ],
      "execution_count": null,
      "outputs": []
    },
    {
      "cell_type": "code",
      "metadata": {
        "id": "4GvweUwu4SFn"
      },
      "source": [
        ""
      ],
      "execution_count": null,
      "outputs": []
    },
    {
      "cell_type": "markdown",
      "metadata": {
        "id": "h_qr4kORMYq5"
      },
      "source": [
        "#### Para matrices de 4x4 en adelante existen diferentes maneras de calcular el determinante como:\n",
        "\n",
        "    - Gauss Jordan\n",
        "    - Método de Cofactores\n",
        "    - Regla de Chio\n",
        "\n",
        "#### Pero, hey! Ahora que lo entendimos ¿Por qué no se lo dejamos al buen numpy que nada le gana? 😅"
      ]
    },
    {
      "cell_type": "markdown",
      "metadata": {
        "id": "qbzqI9YGMYq5"
      },
      "source": [
        "## Matriz Inversa!\n",
        "\n",
        "### Antes que otra cosa 👇🏼\n",
        "\n",
        "    > Una matriz puede o no tener inversa, a esto se le llama si una matriz es singular o no 🧐\n",
        "    \n",
        "    > Singular es que no tiene inversa y su determinante es 0\n",
        "    \n",
        "    > No singular es que sí tiene inversa 🎊  y su determinante es diferente de 0\n",
        "   \n",
        "#### Qué es esta vaina? \n",
        "\n",
        "\n",
        "#### Pues, una matriz, DUH! es el nega de una matriz que nos hayan dado para hacer operaciones o resolver un problema\n",
        "\n",
        "![nega](https://64.media.tumblr.com/4073f5c27c73816ba590ea68acecf807/tumblr_nqb34mjOnv1uqvi23o2_250.gifv)\n",
        "\n",
        "![inverse](attachment:406a263a-dfdf-4dd8-ad14-b3ce7514a14e.png)\n",
        "\n",
        "\n",
        "#### Se denota con el -1 como superíndice\n",
        "\n",
        "![inverse_form](https://cdn-images-1.medium.com/max/1600/0*HFsFQU1nrhy6Fc1T.png)\n",
        "\n",
        "\n",
        "![ex_invert](https://cdn-images-1.medium.com/max/1600/1*K9h37cVujs0GbgOnI7XSsA.png)"
      ]
    },
    {
      "cell_type": "code",
      "metadata": {
        "id": "qV7ziF_rMYq5"
      },
      "source": [
        "A = np.matrix([\n",
        "    [4, 3],\n",
        "    [5, 4]\n",
        "])"
      ],
      "execution_count": null,
      "outputs": []
    },
    {
      "cell_type": "code",
      "metadata": {
        "id": "K4L9zX9CMYq5"
      },
      "source": [
        "np.linalg.inv(A)"
      ],
      "execution_count": null,
      "outputs": []
    },
    {
      "cell_type": "code",
      "metadata": {
        "id": "m6FKdqCnMYq5"
      },
      "source": [
        "mat_to_inv = np.array([[1,2,3], [4,5,6], [7,8,9]])"
      ],
      "execution_count": null,
      "outputs": []
    },
    {
      "cell_type": "code",
      "metadata": {
        "id": "DDqg35HAMYq5"
      },
      "source": [
        "inverse = np.linalg.inv(mat_to_inv)"
      ],
      "execution_count": null,
      "outputs": []
    },
    {
      "cell_type": "code",
      "metadata": {
        "id": "UT3xYylVMYq6"
      },
      "source": [
        "np.linalg.det(mat_to_inv)"
      ],
      "execution_count": null,
      "outputs": []
    },
    {
      "cell_type": "markdown",
      "metadata": {
        "id": "-in3k3H0MYq6"
      },
      "source": [
        "### Sirve con una matriz singular el .inv?? o qué pasa? "
      ]
    },
    {
      "cell_type": "code",
      "metadata": {
        "id": "sQhOWid6MYq6"
      },
      "source": [
        "singular = np.array([[4,3,2], [5,0,1], [4,3,2]])"
      ],
      "execution_count": null,
      "outputs": []
    },
    {
      "cell_type": "code",
      "metadata": {
        "id": "nbe9F15y6aPv"
      },
      "source": [
        "norm1 = np.array([[4,2,2], [3,0,1], [4,3,2]])\n"
      ],
      "execution_count": null,
      "outputs": []
    },
    {
      "cell_type": "code",
      "metadata": {
        "id": "gFPJ2ri-MYq6"
      },
      "source": [
        ""
      ],
      "execution_count": null,
      "outputs": []
    },
    {
      "cell_type": "code",
      "metadata": {
        "id": "tm_eNp2KMYq6"
      },
      "source": [
        ""
      ],
      "execution_count": null,
      "outputs": []
    },
    {
      "cell_type": "markdown",
      "metadata": {
        "id": "JQojOBAMMYq6"
      },
      "source": [
        "¿Porque es importante saber la matriz inversa?\n",
        "\n",
        "Si tenemos:\n",
        "\n",
        "A . x = b\n",
        "\n",
        "donde:\n",
        "\n",
        "A: Matriz formada por los valores que acompaña a las incognitas.\n",
        "x: Matriz incognito.\n",
        "b: Matriz formada por los valores que NO acompañan a las incognitas.\n",
        "Sabiendo la inversa, podemos calcular los valores de x.\n",
        "\n",
        "¿Como? Si la A está como productor escalar con la x, pasa al otro lado como producto escalar de b pero como su inversa.\n",
        "\n",
        "x = b . A^-1\n",
        "\n",
        "¿Porque es importante saber la matriz singular?\n",
        "\n",
        "Porque si tenemos una matriz singular es un sistema de ecuaciones lineales no podemos encontrar los valores incongnitas porque no tiene inversa. Sabiendo esto sabemos que no podremos calcular u obtener los resultados de las incognitas."
      ]
    },
    {
      "cell_type": "markdown",
      "metadata": {
        "id": "5jrJiXZrMYq6"
      },
      "source": [
        "## Operaciones de Broadcasting\n",
        "\n",
        "### El broadcasting es extender el elmento de menor dimensión hasta completar o igualar la dimensión que nos funcione para la operación\n",
        "\n",
        "\n"
      ]
    },
    {
      "cell_type": "markdown",
      "metadata": {
        "id": "XxRi1IYp2-iA"
      },
      "source": [
        "# New Section"
      ]
    },
    {
      "cell_type": "code",
      "metadata": {
        "id": "An5JhZDgMYq6"
      },
      "source": [
        "escalar = 10\n",
        "vector = np.array([1,2,3])\n",
        "matrix = np.array([[0,9],[8,7],[6,5]])"
      ],
      "execution_count": null,
      "outputs": []
    },
    {
      "cell_type": "code",
      "metadata": {
        "id": "7mYllLOcMYq6"
      },
      "source": [
        ""
      ],
      "execution_count": null,
      "outputs": []
    },
    {
      "cell_type": "markdown",
      "metadata": {
        "id": "i4-h6-c-MYq7"
      },
      "source": [
        "$\n",
        "\\begin{bmatrix}\n",
        "  - & -  \\\\\n",
        "  - & -   \\\\\n",
        "  - & - \n",
        "\\end{bmatrix}\n",
        "$\n",
        "+\n",
        "$\n",
        "\\begin{bmatrix}\n",
        "  - & - & -  \\\\\n",
        "\\end{bmatrix}\n",
        "$"
      ]
    },
    {
      "cell_type": "code",
      "metadata": {
        "id": "Ts_Pvh_XMYq7"
      },
      "source": [
        "matrix.T + vector"
      ],
      "execution_count": null,
      "outputs": []
    },
    {
      "cell_type": "markdown",
      "metadata": {
        "id": "uGBwvCb8MYq7"
      },
      "source": [
        "$\n",
        "\\begin{bmatrix}\n",
        "  - & - & - \\\\\n",
        "  - & - & -  \n",
        "\\end{bmatrix}\n",
        "$\n",
        "+\n",
        "$\n",
        "\\begin{bmatrix}\n",
        "  - & - & -  \\\\\n",
        "\\end{bmatrix}\n",
        "$"
      ]
    },
    {
      "cell_type": "markdown",
      "metadata": {
        "id": "mM93nRS1MYq7"
      },
      "source": [
        "## Tensores \n",
        "\n",
        "\n",
        "![que_es_tensor](https://media.makeameme.org/created/what-is-tensor.jpg)\n",
        "\n",
        "![tensor_obi](https://i.redd.it/074n96h9e7k51.jpg)\n",
        "\n",
        "\n",
        "### Definición bin basica: un arreglo de matrices :v\n",
        "\n",
        "\n",
        "### Básicamente a nivel dimensional es el siguiente nivel de dimensión después de las matrices\n",
        "\n",
        "\n",
        "\n",
        "![tensor_grafico](https://miro.medium.com/max/891/0*jGB1CGQ9HdeUwlgB)\n"
      ]
    },
    {
      "cell_type": "code",
      "metadata": {
        "id": "uhT41BglMYq7"
      },
      "source": [
        "tensor = np.array([\n",
        "[[255,255,255],[255,255,255],[255,255,255]],\n",
        "[[0,0,0],[0,0,0],[0,0,0]],\n",
        "[[128,128,128],[128,128,128],[128,128,128]]\n",
        "])"
      ],
      "execution_count": null,
      "outputs": []
    },
    {
      "cell_type": "code",
      "metadata": {
        "id": "p3tYLlVfMYq7"
      },
      "source": [
        ""
      ],
      "execution_count": null,
      "outputs": []
    },
    {
      "cell_type": "code",
      "metadata": {
        "id": "3sOTaEM6MYq7"
      },
      "source": [
        "img = mpimg.imread('https://devf-website.s3-us-west-1.amazonaws.com/Thumbnails/devf-logo-a.png')\n"
      ],
      "execution_count": null,
      "outputs": []
    },
    {
      "cell_type": "code",
      "metadata": {
        "id": "_qe-r2m5MYq7"
      },
      "source": [
        ""
      ],
      "execution_count": null,
      "outputs": []
    },
    {
      "cell_type": "code",
      "metadata": {
        "id": "3gEvax5wMYq8"
      },
      "source": [
        "lum_img = img[:, :, 0]\n"
      ],
      "execution_count": null,
      "outputs": []
    },
    {
      "cell_type": "code",
      "metadata": {
        "id": "myEhpintMYq8"
      },
      "source": [
        "# 🥵🥵🥵 🔥\n"
      ],
      "execution_count": null,
      "outputs": []
    },
    {
      "cell_type": "markdown",
      "metadata": {
        "id": "F17s_zmLMYq8"
      },
      "source": [
        "![Esponja_lineal](https://pics.me.me/thumb_como-olvidar-las-clases-de-algebra-lineal-del-maestroesponja-solo-7127374.png)"
      ]
    },
    {
      "cell_type": "markdown",
      "metadata": {
        "id": "IKkN6z2vMYq8"
      },
      "source": [
        "## Transformación lineal\n",
        "\n",
        "### Suena ostentoso? Peligroso? a mi sí, pero que creen! Es lo que hemos estado haciendo sin que nos hayamos dado cuenta 🤯 😳\n",
        "\n",
        "### Es básicamente una **funcion**! O sea tenemos una entrada a la funcion que seria un vector y por medio de operaciones como las que hemos visto obtener otro vector con otras cualidades, de acuerdo a las operaciones que se le realice\n",
        "\n",
        "### Por ejemplo si multiplicamos un vector por una matriz nos da otro vector, no? 😉 y pues ese vector que resultó tiene cualidades diferentes, como que pueden ser que esté más largo, más achicado, que haya tenido una rotación, etc.\n",
        "\n",
        "#### Y... para que chucas nos sirve esto?\n",
        "\n",
        "#### Para mover nuestros puntos en el plano! 🤗\n",
        "\n",
        "Kuaa!\n",
        "\n",
        "#### Base:\n",
        "![vector base_trans](https://github.com/Krax7/master-data-ai/blob/main/Kata%20Fundamentos/Intro_LinearAlgebra/img/1.png)\n",
        "\n",
        "#### Vector Genérico\n",
        "\n",
        "![vector_generico](attachment:98e51bb7-22a8-4892-8323-06a50cfc75a2.png)\n",
        "\n",
        "### Vector Genérico Transformado\n",
        "\n",
        "![generico_transformado](attachment:2cba5bfa-65da-4e3d-987c-3f535c5a5e16.png)\n",
        "\n",
        "### LLegamos a la formula base de trans lineal\n",
        "\n",
        "\n",
        "![formula_base_trasnf_lineal](attachment:75809b1b-eb7c-4e35-b741-1eadd7b0191b.png)"
      ]
    },
    {
      "cell_type": "code",
      "metadata": {
        "id": "lpQuuQEPMYq8"
      },
      "source": [
        ""
      ],
      "execution_count": null,
      "outputs": []
    },
    {
      "cell_type": "code",
      "metadata": {
        "id": "Sqc2gJ3JMYq8"
      },
      "source": [
        ""
      ],
      "execution_count": null,
      "outputs": []
    },
    {
      "cell_type": "code",
      "metadata": {
        "id": "oVL-uNd_MYq8"
      },
      "source": [
        "def plot_vector(vector, origin=[0, 0], **options):\n",
        "    return plt.arrow(origin[0], origin[1], vector[0], vector[1],\n",
        "              head_width=0.2, head_length=0.3, length_includes_head=True,\n",
        "              **options)"
      ],
      "execution_count": null,
      "outputs": []
    },
    {
      "cell_type": "code",
      "metadata": {
        "id": "vwpE2U4wMYq8"
      },
      "source": [
        ""
      ],
      "execution_count": null,
      "outputs": []
    },
    {
      "cell_type": "markdown",
      "metadata": {
        "id": "B_cxpnehMYq8"
      },
      "source": [
        "## Eigen valores y eigen vectores O Auto valores y auto Vectores\n",
        "\n",
        "![eigen](data:image/jpeg;base64,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)\n",
        "\n",
        "![eigen_2](https://pics.me.me/thumb_engineer-memes-gisteren-om-16-46-s-engineer-memes-eigenvalue-eigenvector-55716479.png)\n",
        "\n",
        "### Un Eigen vector es aquel que al aplicarle una amtriz nos da un vector con la misma dirección PEEERO puede tener una variación en la magnitud 🤠 Sí señor!\n",
        "### O sea que si a un vector, le hacemos una trasnformacion lineal ;) y no se mueve su dirección.... pero tal vez si o tal vez no su magnitud es un eigen vector? YES! 👏🏽\n",
        "\n",
        "\n",
        "### Ojo 👀  ! Sólo funciona cuando la matriz dada para la transformación es cuadrada 🔲\n",
        "\n",
        "### En versión ténica: \n",
        "\n",
        "#### Se conoce como valores propios o eigenvalores y vectores propios o eigenvectores a los escalares $λ$ y vectores $v$ que cumplan para una matriz cuadrada $A$ de tamaño $n x n$ la siguiente condicion:\n",
        "\n",
        "![eigen_regla](attachment:2c1333b0-df97-4ede-af89-2de2037fbbbd.png)\n",
        "\n",
        "\n",
        "### ¿Existe algún vector $v$ distinto de cero para el cual A$.v$ es un escalar múltiplo de $v$?.\n"
      ]
    },
    {
      "cell_type": "code",
      "metadata": {
        "id": "S2wKv4I9MYq9"
      },
      "source": [
        "# Definimos una matriz\n",
        "M = np.array([[3, 2], [4, 1]])\n",
        "\n",
        "\n",
        "# Definimos un vector \n",
        "v = np.array([[1], [1]])\n",
        "\n",
        "# a ver sicierto\n",
        "u = M.dot(v)\n",
        "\n"
      ],
      "execution_count": null,
      "outputs": []
    },
    {
      "cell_type": "code",
      "metadata": {
        "id": "f54FMi9VMYq9"
      },
      "source": [
        "plot_vector(u.flatten(), color=\"r\")\n",
        "plot_vector(v.flatten(), color=\"purple\")\n",
        "plt.axis([0, 6, 0, 6])\n",
        "plt.grid()\n",
        "plt.show()"
      ],
      "execution_count": null,
      "outputs": []
    },
    {
      "cell_type": "markdown",
      "metadata": {
        "id": "Q9AhUnFlMYq9"
      },
      "source": [
        "### Cómo dijiste que se calculaba? 🤯\n",
        "\n",
        "### DETERMINANTE!\n",
        "\n",
        "Tenemos nuestra Matriz\n",
        "\n",
        "$A = \n",
        "\\begin{bmatrix}\n",
        "  3 & 2  \\\\\n",
        "  7 & -2   \n",
        "\\end{bmatrix}\n",
        "$\n",
        "\n",
        "\n",
        "\n",
        "\n",
        "![eigen_calculo](attachment:671e7517-000a-4cac-9d3a-828aa6314c97.png)"
      ]
    },
    {
      "cell_type": "code",
      "metadata": {
        "id": "DABE8LnhMYq9"
      },
      "source": [
        "A = np.array([[3, 2],\n",
        "              [7, -2]])\n",
        "\n",
        "\n",
        "# eigval Eigenvalor, eigvect Eigenvector\n"
      ],
      "execution_count": null,
      "outputs": []
    },
    {
      "cell_type": "code",
      "metadata": {
        "id": "3yzflLfv-ksW"
      },
      "source": [
        "Mat = np.array([[3,1],[0,2]])\n"
      ],
      "execution_count": null,
      "outputs": []
    },
    {
      "cell_type": "code",
      "metadata": {
        "id": "7ydmKw7J-6MW"
      },
      "source": [
        "eigenvalues"
      ],
      "execution_count": null,
      "outputs": []
    },
    {
      "cell_type": "code",
      "metadata": {
        "id": "-yarsjq-_A1Z"
      },
      "source": [
        "eigenvectors"
      ],
      "execution_count": null,
      "outputs": []
    },
    {
      "cell_type": "markdown",
      "metadata": {
        "id": "zaYA2y02MYq-"
      },
      "source": [
        "## Descomposicion de Matrices la normalita es la Eigendescomposicion n.n\n",
        "\n",
        "#### Es encontrar a partir de 2 o más matrices 1 Matriz Original\n",
        "\n",
        "#### Nota: Las matrices a buscar deben tener algunas propiedades importantes\n",
        "Matriz de Eigen Vectores\n",
        "\n",
        "\n",
        "$A = \n",
        "\\begin{bmatrix}\n",
        "  - & -  \\\\\n",
        "  - & -   \\\\\n",
        "  - & - \n",
        "\\end{bmatrix}\n",
        "$\n",
        ".\n",
        "$\n",
        "\\begin{bmatrix}\n",
        "  λ1 &    \\\\\n",
        "    & λ2   \n",
        "\\end{bmatrix}\n",
        "$\n",
        ".\n",
        "$\n",
        "\\begin{bmatrix}\n",
        "  - & -  \\\\\n",
        "  - & -   \n",
        "\\end{bmatrix}^-1\n",
        "$\n",
        "\n",
        "\n",
        "\n",
        "\n",
        "MATRIZ DIAGONAL DONDE λ son los eigenvalores\n",
        "\n",
        "\n",
        "Inversa de Matriz de Autovectores"
      ]
    },
    {
      "cell_type": "code",
      "metadata": {
        "id": "YxEBKN1wMYq-"
      },
      "source": [
        "M = np.array([[3, 2], [4, 1]])\n"
      ],
      "execution_count": null,
      "outputs": []
    },
    {
      "cell_type": "code",
      "metadata": {
        "id": "FZuk44JQMYq-"
      },
      "source": [
        ""
      ],
      "execution_count": null,
      "outputs": []
    },
    {
      "cell_type": "code",
      "metadata": {
        "id": "98phvdhiMYq-"
      },
      "source": [
        ""
      ],
      "execution_count": null,
      "outputs": []
    },
    {
      "cell_type": "markdown",
      "metadata": {
        "id": "DBN7V-1OMYq-"
      },
      "source": [
        "### Si tenemos una matriz Real o sea $€ R$ y simetrica como:\n",
        "\n",
        "$RealSimetrica = \n",
        "\\begin{bmatrix}\n",
        "  4 & 5  \\\\\n",
        "  5 & 4  \n",
        "\\end{bmatrix}\n",
        "$\n",
        "\n",
        "$RealSimetricaFromOthers = \n",
        "\\begin{bmatrix}\n",
        "  - & -  \\\\\n",
        "  - & -   \\\\\n",
        "  - & - \n",
        "\\end{bmatrix}\n",
        "$\n",
        ".\n",
        "$\n",
        "\\begin{bmatrix}\n",
        "  λ1 &    \\\\\n",
        "    & λ2   \n",
        "\\end{bmatrix}\n",
        "$\n",
        ".\n",
        "$\n",
        "\\begin{bmatrix}\n",
        "  - & -  \\\\\n",
        "  - & -   \n",
        "\\end{bmatrix}^T\n",
        "$\n",
        "\n",
        "\n",
        "#### Para la chompu es más barato 💸  calcular una transpuesta que una inversa, siono?\n",
        "#### Espereeeemos ... que siempre tengamos casos con matrices simetricas xD"
      ]
    },
    {
      "cell_type": "code",
      "metadata": {
        "id": "vhC91y0OMYq-"
      },
      "source": [
        "re_sim = np.array([[4,5,9], [5,0,2], [9, 2, 7]])"
      ],
      "execution_count": null,
      "outputs": []
    },
    {
      "cell_type": "code",
      "metadata": {
        "id": "OAtmjl--MYq-"
      },
      "source": [
        ""
      ],
      "execution_count": null,
      "outputs": []
    },
    {
      "cell_type": "code",
      "metadata": {
        "id": "xtmLYO8_MYq-"
      },
      "source": [
        "eigval, eigvect = np.linalg.eig(re_sim)"
      ],
      "execution_count": null,
      "outputs": []
    },
    {
      "cell_type": "code",
      "metadata": {
        "id": "KQ-zobQUMYq_"
      },
      "source": [
        ""
      ],
      "execution_count": null,
      "outputs": []
    },
    {
      "cell_type": "markdown",
      "metadata": {
        "id": "r6iamaaOMYq_"
      },
      "source": [
        "### Estuvo muy...\n",
        "![decompos](https://www.recetasdesbieta.com/wp-content/uploads/2018/04/pan-leche_1.jpg)"
      ]
    },
    {
      "cell_type": "markdown",
      "metadata": {
        "id": "cf_idaQJMYq_"
      },
      "source": [
        "#### Peeeero peeeero peeero ... :(\n",
        "\n",
        "\n",
        "#### Oigan ...\n",
        "#### Y si nuestra matriz no es cuadrada? x.x  ⛔️ 🔲\n",
        "\n",
        "\n",
        "### Singular Value Decomposition o  pa la banda Descomposición de Valores Singulares\n"
      ]
    },
    {
      "cell_type": "code",
      "metadata": {
        "id": "qC-8gUYp-35L"
      },
      "source": [
        ""
      ],
      "execution_count": null,
      "outputs": []
    },
    {
      "cell_type": "markdown",
      "metadata": {
        "id": "VQsXjKK0MYq_"
      },
      "source": [
        "## Referencias\n",
        "https://towardsdatascience.com/beginners-guide-to-creating-an-svd-recommender-system-1fd7326d1f65\n",
        "https://blog.statsbot.co/singular-value-decomposition-tutorial-52c695315254\n",
        "https://towardsdatascience.com/understanding-singular-value-decomposition-and-its-application-in-data-science-388a54be95d\n",
        "https://github.com/arubiales\n",
        "https://www.ciencia-explicada.com/2012/01/autovectores-otro-inutil-capricho-de.html#:~:text=En%20este%20caso%2C%20los%20autovalores,%C3%A1tomo%20de%20hidr%C3%B3geno%20(fuente).\n",
        "https://relopezbriega.github.io/blog/2015/06/14/algebra-lineal-con-python/\n",
        "https://towardsdatascience.com/pca-and-svd-explained-with-numpy-5d13b0d2a4d8\n",
        "https://rubialesalberto.medium.com/data-scientist-explicaci%C3%B3n-y-diferencias-entre-m%C3%A9tricas-de-error-con-python-f7d71dbee634\n",
        "https://towardsdatascience.com/svd-8c2f72e264f\n",
        "https://medium.com/@jonathan-hui/machine-learning-singular-value-decomposition-svd-principal-component-analysis-pca-1d45e885e491?source=search_post---------3\n",
        "https://jonathan-hui.medium.com/machine-learning-singular-value-decomposition-svd-principal-component-analysis-pca-1d45e885e491\n",
        "https://medium.com/the-andela-way/foundations-of-machine-learning-singular-value-decomposition-svd-162ac796c27d"
      ]
    }
  ]
}